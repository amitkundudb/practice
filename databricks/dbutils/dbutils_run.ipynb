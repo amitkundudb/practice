{
 "cells": [
  {
   "cell_type": "code",
   "execution_count": 0,
   "metadata": {
    "application/vnd.databricks.v1+cell": {
     "cellMetadata": {
      "byteLimit": 2048000,
      "rowLimit": 10000
     },
     "inputWidgets": {},
     "nuid": "e8055be1-7d8f-495c-ba86-6bb7215dbb50",
     "showTitle": false,
     "title": ""
    }
   },
   "outputs": [],
   "source": [
    "dbutils.widgets.text(name='name4',defaultValue='Amit',label='Name textbox')\n",
    "dbutils.widgets.combobox(name='name',defaultValue='Amit',choices=['Amit','Anita','Neha'],label='Name combobox')\n",
    "dbutils.widgets.dropdown(name='name2',defaultValue='Amit',choices=['Amit','Anita','Neha'],label='Name dropdown')\n",
    "dbutils.widgets.multiselect(name='name3',defaultValue='Amit',choices=['Amit','Anita','Neha'],label='Name multiselect')"
   ]
  },
  {
   "cell_type": "code",
   "execution_count": 0,
   "metadata": {
    "application/vnd.databricks.v1+cell": {
     "cellMetadata": {
      "byteLimit": 2048000,
      "rowLimit": 10000
     },
     "inputWidgets": {},
     "nuid": "046310ca-361c-46e5-9b19-a899d492dc83",
     "showTitle": false,
     "title": ""
    }
   },
   "outputs": [
    {
     "output_type": "stream",
     "name": "stdout",
     "output_type": "stream",
     "text": [
      "Combobox value is Ahana\nText value is Amit\nMultiselect value is Amit\nDropdown value is Amit\n"
     ]
    }
   ],
   "source": [
    "print('Combobox value is '+dbutils.widgets.get('name'))\n",
    "print('Text value is '+dbutils.widgets.get('name4'))\n",
    "print('Multiselect value is '+dbutils.widgets.get('name3'))\n",
    "print('Dropdown value is '+dbutils.widgets.get('name2'))"
   ]
  },
  {
   "cell_type": "code",
   "execution_count": 0,
   "metadata": {
    "application/vnd.databricks.v1+cell": {
     "cellMetadata": {
      "byteLimit": 2048000,
      "rowLimit": 10000
     },
     "inputWidgets": {},
     "nuid": "6d325a23-f132-4928-aa22-6769d5d18b7f",
     "showTitle": false,
     "title": ""
    }
   },
   "outputs": [],
   "source": []
  }
 ],
 "metadata": {
  "application/vnd.databricks.v1+notebook": {
   "dashboards": [],
   "language": "python",
   "notebookMetadata": {
    "pythonIndentUnit": 4
   },
   "notebookName": "dbutils_run",
   "widgets": {
    "name": {
     "currentValue": "Ahana",
     "nuid": "f9b33252-551d-49bb-a351-5829f41715a0",
     "widgetInfo": {
      "widgetType": "combobox",
      "defaultValue": "Amit",
      "label": "Name combobox",
      "name": "name",
      "options": {
       "widgetType": "dropdown",
       "autoCreated": null,
       "choices": [
        "Amit",
        "Anita",
        "Neha"
       ]
      }
     }
    },
    "name2": {
     "currentValue": "Amit",
     "nuid": "339ba5c4-a6b8-4ddf-9935-d9f31975d7c2",
     "widgetInfo": {
      "widgetType": "dropdown",
      "defaultValue": "Amit",
      "label": "Name dropdown",
      "name": "name2",
      "options": {
       "widgetType": "dropdown",
       "autoCreated": null,
       "choices": [
        "Amit",
        "Anita",
        "Neha"
       ]
      }
     }
    },
    "name3": {
     "currentValue": "Amit",
     "nuid": "79dd76e5-82eb-41c7-b01c-f4db3aef1bc8",
     "widgetInfo": {
      "widgetType": "multiselect",
      "defaultValue": "Amit",
      "label": "Name multiselect",
      "name": "name3",
      "options": {
       "widgetType": "dropdown",
       "autoCreated": null,
       "choices": [
        "Amit",
        "Anita",
        "Neha"
       ]
      }
     }
    },
    "name4": {
     "currentValue": "Amit",
     "nuid": "ddfae63a-873b-41da-b491-94c72515024a",
     "widgetInfo": {
      "widgetType": "text",
      "defaultValue": "Amit",
      "label": "Name textbox",
      "name": "name4",
      "options": {
       "widgetType": "text",
       "autoCreated": null,
       "validationRegex": null
      }
     }
    }
   }
  }
 },
 "nbformat": 4,
 "nbformat_minor": 0
}
