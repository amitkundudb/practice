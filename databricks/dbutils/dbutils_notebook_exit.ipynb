{
 "cells": [
  {
   "cell_type": "code",
   "execution_count": 0,
   "metadata": {
    "application/vnd.databricks.v1+cell": {
     "cellMetadata": {
      "byteLimit": 2048000,
      "rowLimit": 10000
     },
     "inputWidgets": {},
     "nuid": "2b6d29e3-33ed-4bfe-a40f-4fa5ea0fab8a",
     "showTitle": false,
     "title": ""
    }
   },
   "outputs": [
    {
     "output_type": "display_data",
     "data": {
      "text/html": [
       "<div class = \"ansiout\">\n",
       "The notebook module.\n",
       "  <h3></h3><b>exit(value: String): void</b> -> This method lets you exit a notebook with a value<br /><b>run(path: String, timeoutSeconds: int, arguments: Map): String</b> -> This method runs a notebook and returns its exit value<br /><br /></div>"
      ]
     },
     "metadata": {},
     "output_type": "display_data"
    }
   ],
   "source": [
    "dbutils.notebook.help()"
   ]
  },
  {
   "cell_type": "code",
   "execution_count": 0,
   "metadata": {
    "application/vnd.databricks.v1+cell": {
     "cellMetadata": {
      "byteLimit": 2048000,
      "rowLimit": 10000
     },
     "inputWidgets": {},
     "nuid": "868c13a2-22f6-4960-bc40-6a01ec3a5c83",
     "showTitle": false,
     "title": ""
    }
   },
   "outputs": [],
   "source": [
    "name = 'Amit'\n",
    "dbutils.notebook.exit(name)\n"
   ]
  },
  {
   "cell_type": "code",
   "execution_count": 0,
   "metadata": {
    "application/vnd.databricks.v1+cell": {
     "cellMetadata": {
      "byteLimit": 2048000,
      "rowLimit": 10000
     },
     "inputWidgets": {},
     "nuid": "ef6ae16e-a07b-4eed-a1cb-1b53e2e828c9",
     "showTitle": false,
     "title": ""
    }
   },
   "outputs": [],
   "source": [
    "company = 'Diggibyte'\n",
    "dbutils.notebook.exit(company)"
   ]
  },
  {
   "cell_type": "code",
   "execution_count": 0,
   "metadata": {
    "application/vnd.databricks.v1+cell": {
     "cellMetadata": {
      "byteLimit": 2048000,
      "rowLimit": 10000
     },
     "inputWidgets": {},
     "nuid": "a4586234-caf6-4328-976f-03ebfc3fba62",
     "showTitle": false,
     "title": ""
    }
   },
   "outputs": [],
   "source": [
    "add = 'WB'\n",
    "print(add)"
   ]
  }
 ],
 "metadata": {
  "application/vnd.databricks.v1+notebook": {
   "dashboards": [],
   "language": "python",
   "notebookMetadata": {
    "pythonIndentUnit": 4
   },
   "notebookName": "dbutils_notebook_exit",
   "widgets": {}
  }
 },
 "nbformat": 4,
 "nbformat_minor": 0
}
